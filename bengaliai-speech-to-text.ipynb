{
 "cells": [
  {
   "cell_type": "code",
   "execution_count": null,
   "metadata": {
    "tags": []
   },
   "outputs": [],
   "source": [
    "# !pip install bnunicodenormalizer\n",
    "# !pip install jiwer\n",
    "# !pip install nltk\n",
    "# !pip install librosa\n",
    "# !pip install pandas\n",
    "# import nltk\n",
    "# nltk.download('punkt')"
   ]
  },
  {
   "cell_type": "code",
   "execution_count": 1,
   "metadata": {
    "_cell_guid": "b1076dfc-b9ad-4769-8c92-a6c4dae69d19",
    "_uuid": "8f2839f25d086af736a60e9eeb907d3b93b6e0e5",
    "tags": []
   },
   "outputs": [],
   "source": [
    "import torch\n",
    "import torchaudio\n",
    "import string\n",
    "import nltk\n",
    "import math\n",
    "import itertools\n",
    "import librosa\n",
    "import librosa.display\n",
    "\n",
    "import pandas as pd\n",
    "import numpy as np\n",
    "import matplotlib.pyplot as plt\n",
    "import torch.nn.functional as F\n",
    "\n",
    "from tqdm import tqdm\n",
    "from scipy import signal\n",
    "from torch import nn, optim\n",
    "from joblib import Parallel, delayed\n",
    "from jiwer import wer, cer\n",
    "from torch.utils.data import Dataset, DataLoader\n",
    "from torchaudio.models.decoder import ctc_decoder\n",
    "from collections import Counter\n",
    "from nltk.tokenize import word_tokenize\n",
    "from bnunicodenormalizer import Normalizer \n",
    "from sklearn.feature_extraction.text import TfidfVectorizer, CountVectorizer"
   ]
  },
  {
   "cell_type": "code",
   "execution_count": 2,
   "metadata": {
    "tags": []
   },
   "outputs": [
    {
     "data": {
      "text/html": [
       "<div>\n",
       "<style scoped>\n",
       "    .dataframe tbody tr th:only-of-type {\n",
       "        vertical-align: middle;\n",
       "    }\n",
       "\n",
       "    .dataframe tbody tr th {\n",
       "        vertical-align: top;\n",
       "    }\n",
       "\n",
       "    .dataframe thead th {\n",
       "        text-align: right;\n",
       "    }\n",
       "</style>\n",
       "<table border=\"1\" class=\"dataframe\">\n",
       "  <thead>\n",
       "    <tr style=\"text-align: right;\">\n",
       "      <th></th>\n",
       "      <th>id</th>\n",
       "      <th>sentence</th>\n",
       "      <th>split</th>\n",
       "    </tr>\n",
       "  </thead>\n",
       "  <tbody>\n",
       "    <tr>\n",
       "      <th>0</th>\n",
       "      <td>000005f3362c</td>\n",
       "      <td>ও বলেছে আপনার ঠিকানা!</td>\n",
       "      <td>train</td>\n",
       "    </tr>\n",
       "    <tr>\n",
       "      <th>1</th>\n",
       "      <td>00001dddd002</td>\n",
       "      <td>কোন মহান রাষ্ট্রের নাগরিক হতে চাও?</td>\n",
       "      <td>train</td>\n",
       "    </tr>\n",
       "    <tr>\n",
       "      <th>2</th>\n",
       "      <td>00001e0bc131</td>\n",
       "      <td>আমি তোমার কষ্টটা বুঝছি, কিন্তু এটা সঠিক পথ না।</td>\n",
       "      <td>train</td>\n",
       "    </tr>\n",
       "    <tr>\n",
       "      <th>3</th>\n",
       "      <td>000024b3d810</td>\n",
       "      <td>নাচ শেষ হওয়ার পর সকলে শরীর ধুয়ে একসঙ্গে ভোজন...</td>\n",
       "      <td>train</td>\n",
       "    </tr>\n",
       "    <tr>\n",
       "      <th>4</th>\n",
       "      <td>000028220ab3</td>\n",
       "      <td>হুমম, ওহ হেই, দেখো।</td>\n",
       "      <td>train</td>\n",
       "    </tr>\n",
       "  </tbody>\n",
       "</table>\n",
       "</div>"
      ],
      "text/plain": [
       "             id                                           sentence  split\n",
       "0  000005f3362c                              ও বলেছে আপনার ঠিকানা!  train\n",
       "1  00001dddd002                 কোন মহান রাষ্ট্রের নাগরিক হতে চাও?  train\n",
       "2  00001e0bc131     আমি তোমার কষ্টটা বুঝছি, কিন্তু এটা সঠিক পথ না।  train\n",
       "3  000024b3d810  নাচ শেষ হওয়ার পর সকলে শরীর ধুয়ে একসঙ্গে ভোজন...  train\n",
       "4  000028220ab3                                হুমম, ওহ হেই, দেখো।  train"
      ]
     },
     "execution_count": 2,
     "metadata": {},
     "output_type": "execute_result"
    }
   ],
   "source": [
    "# Load and examine data\n",
    "train_df = pd.read_csv('./input/bengaliai-speech/train.csv')\n",
    "train_df.head(5)"
   ]
  },
  {
   "cell_type": "code",
   "execution_count": 3,
   "metadata": {
    "tags": []
   },
   "outputs": [],
   "source": [
    "#### Data selection for prototyping (delete/comment out for full training)\n",
    "NUM_EXAMPLES = 50000\n",
    "group = 1\n",
    "if group < 5:\n",
    "    train_df = train_df.iloc[NUM_EXAMPLES*(group-1):NUM_EXAMPLES*group, :]\n",
    "else:\n",
    "    train_df = train_df.iloc[NUM_EXAMPLES*(group-1):, :]\n",
    "##############################################################"
   ]
  },
  {
   "cell_type": "markdown",
   "metadata": {},
   "source": [
    "## Preprocessing text"
   ]
  },
  {
   "cell_type": "code",
   "execution_count": 4,
   "metadata": {
    "tags": []
   },
   "outputs": [
    {
     "name": "stderr",
     "output_type": "stream",
     "text": [
      "50000it [00:17, 2797.48it/s]\n"
     ]
    },
    {
     "name": "stdout",
     "output_type": "stream",
     "text": [
      "67 unique characters\n",
      "Maximum sentence length = 21 words\n",
      "The vocabulary includes 55710 words\n"
     ]
    }
   ],
   "source": [
    "bnorm = Normalizer()\n",
    "def process_text(sentence):    \n",
    "    # Remove special characters\n",
    "    sentence = sentence.translate(str.maketrans('', '', string.punctuation))\n",
    "\n",
    "    # Normalize sentences with bnunicodenormalizer\n",
    "    tokens = word_tokenize(sentence)\n",
    "    norm_tokens = [bnorm(token)['normalized'] for token in tokens]\n",
    "    norm_sentence = \" \".join([word for word in norm_tokens if word is not None])\n",
    "    \n",
    "    # Get unique characters\n",
    "    unique_sentence_chars = list(set([*norm_sentence]))\n",
    "    \n",
    "    return norm_sentence, unique_sentence_chars\n",
    "\n",
    "# Get all unique characters in data set and normalize sentences\n",
    "norm_sentences, unique_chars_per_sentence = zip(*Parallel(n_jobs=-1)(delayed(process_text)\n",
    "                                                                     (train_df.at[index, 'sentence']) \n",
    "                                                                     for index, row in tqdm(train_df.iterrows())))\n",
    "\n",
    "all_chars = list(itertools.chain.from_iterable(unique_chars_per_sentence))\n",
    "unique_chars = list(set(all_chars))\n",
    "unique_chars.append('_') # add label space to character labels\n",
    "print(str(len(unique_chars)) + \" unique characters\")\n",
    "\n",
    "# Get maximum sentence length\n",
    "max_sentence_length = max([len(sentence.split(' ')) for sentence in norm_sentences])\n",
    "print('Maximum sentence length = ' + str(max_sentence_length) + ' words')\n",
    "\n",
    "# Get vocabulary size\n",
    "all_words = list(itertools.chain(*[sentence.split(' ') for sentence in norm_sentences]))\n",
    "unique_words = list(set(all_words))\n",
    "vocabulary_size = len(Counter(all_words).keys())\n",
    "print('The vocabulary includes ' + str(vocabulary_size) + ' words')\n",
    "\n",
    "# Save normalized dataset\n",
    "train_df['sentence'] = norm_sentences\n",
    "train_df.to_csv('./working/norm_train.csv', index=False)\n",
    "\n",
    "# # Save list of unique characters\n",
    "# with open('./working/unique_chars.txt', 'w', encoding=\"utf-8\") as f:\n",
    "#     for char in unique_chars:\n",
    "#         f.write(\"%s\\n\" % char)\n",
    "        \n",
    "# Clean up\n",
    "del all_chars\n",
    "del all_words\n",
    "del unique_words"
   ]
  },
  {
   "cell_type": "markdown",
   "metadata": {},
   "source": [
    "## Define torch Dataset for data loading"
   ]
  },
  {
   "cell_type": "code",
   "execution_count": 5,
   "metadata": {},
   "outputs": [
    {
     "name": "stderr",
     "output_type": "stream",
     "text": [
      "C:\\Users\\Dawson\\anaconda3\\envs\\pytorch\\lib\\site-packages\\torchaudio\\functional\\functional.py:576: UserWarning: At least one mel filterbank has all zero values. The value for `n_mels` (128) may be set too high. Or, the value for `n_freqs` (201) may be set too low.\n",
      "  warnings.warn(\n"
     ]
    }
   ],
   "source": [
    "import os\n",
    "from torchvision.io import read_image\n",
    "SAMPLE_RATE=16000\n",
    "\n",
    "# Frequency and time masking only for training\n",
    "train_audio_transforms = nn.Sequential(\n",
    "    torchaudio.transforms.MelSpectrogram(sample_rate=SAMPLE_RATE, n_mels=128, power=2.0),\n",
    "    torchaudio.transforms.FrequencyMasking(freq_mask_param=0),\n",
    "    nn.Unflatten(dim=0, unflattened_size=(1, -1, 128)), # TimeMasking expects a batch dimension\n",
    "    torchaudio.transforms.TimeMasking(time_mask_param=0)\n",
    ")\n",
    "# Just get spectrogram for validation\n",
    "valid_audio_transforms = torchaudio.transforms.MelSpectrogram(sample_rate=SAMPLE_RATE, n_mels=128)\n",
    "\n",
    "class BengaliAIDataset(Dataset):\n",
    "    def __init__(self, utterance_file, audio_dir, data_type='training', \n",
    "                 transform=None, target_transform=None):\n",
    "        self.audio_dir = audio_dir\n",
    "        if data_type in ['training', 'validation']:\n",
    "            self.sentence_labels = pd.read_csv(utterance_file)\n",
    "        else:\n",
    "            self.sentence_labels = os.listdir(self.audio_dir)\n",
    "        self.transform = transform\n",
    "        self.target_transform = target_transform\n",
    "        self.data_type = data_type\n",
    "\n",
    "    def __len__(self):\n",
    "        return len(self.sentence_labels)\n",
    "\n",
    "    def __getitem__(self, idx):\n",
    "        if self.data_type in ['training', 'validation']:\n",
    "            audio_path = os.path.join(self.audio_dir,\n",
    "                                      self.sentence_labels.iloc[idx, 0] + '.mp3')\n",
    "            waveform, sr = librosa.load(audio_path, sr=32000)\n",
    "            label = self.sentence_labels.iloc[idx, 1]\n",
    "            if self.transform:\n",
    "                waveform = self.transform(waveform)\n",
    "            if self.target_transform:\n",
    "                label = self.target_transform(label)\n",
    "            return waveform, label\n",
    "        else:\n",
    "            file_list = os.listdir(self.audio_dir)\n",
    "            audio_path = os.path.join(self.audio_dir,\n",
    "                                      file_list[idx])\n",
    "            waveform, sr = librosa.load(audio_path, sr=32000)\n",
    "            if self.transform:\n",
    "                waveform = self.transform(waveform)\n",
    "            return waveform"
   ]
  },
  {
   "cell_type": "markdown",
   "metadata": {},
   "source": [
    "## Process data in training"
   ]
  },
  {
   "cell_type": "code",
   "execution_count": 6,
   "metadata": {},
   "outputs": [],
   "source": [
    "# Define data processing before each batch\n",
    "def data_processing(data, data_type='training'):\n",
    "    labeled_sentences = []\n",
    "    spectrograms = []\n",
    "    input_lengths = []\n",
    "    label_lengths = []\n",
    "    if data_type in ['training', 'validation']:\n",
    "        for (waveform, sentence) in data:\n",
    "            # Resample waveform and convert to Tensor\n",
    "            waveform = librosa.resample(waveform, orig_sr=32000, target_sr=16000)\n",
    "            waveform = torch.Tensor(waveform)\n",
    "\n",
    "            # Audio transform during training and inference\n",
    "            if data_type == 'training':\n",
    "                spec = train_audio_transforms(waveform).squeeze().transpose(0, 1)\n",
    "            else:\n",
    "                spec = valid_audio_transforms(waveform).squeeze().transpose(0, 1)\n",
    "            spec = librosa.power_to_db(spec, ref=np.max)\n",
    "            spectrograms.append(torch.Tensor(spec))\n",
    "\n",
    "            # Map characters to integer labels and get input lengths\n",
    "            sentence_labels = []\n",
    "            for char in sentence:\n",
    "                sentence_labels.append(unique_chars.index(char))\n",
    "            label = torch.Tensor(sentence_labels)\n",
    "            labeled_sentences.append(label)\n",
    "\n",
    "            input_lengths.append(spec.shape[0]//2)\n",
    "            label_lengths.append(len(sentence))\n",
    "\n",
    "        # Pad sequences\n",
    "        spectrograms = nn.utils.rnn.pad_sequence(spectrograms, batch_first=True, padding_value=-80).unsqueeze(1).transpose(2, 3)\n",
    "        labels = nn.utils.rnn.pad_sequence(labeled_sentences, batch_first=True, padding_value=len(unique_chars)+1)\n",
    "    \n",
    "        return spectrograms, labels, input_lengths, label_lengths\n",
    "    \n",
    "    else: # For evaluation\n",
    "        for waveform in data:\n",
    "            # Resample waveform and convert to Tensor\n",
    "            waveform = librosa.resample(waveform, orig_sr=32000, target_sr=16000)\n",
    "            waveform = torch.Tensor(waveform)\n",
    "\n",
    "            spec = valid_audio_transforms(waveform).squeeze().transpose(0, 1)\n",
    "            spec = librosa.power_to_db(spec, ref=np.max)\n",
    "            spectrograms.append(torch.Tensor(spec))\n",
    "\n",
    "            input_lengths.append(spec.shape[0])\n",
    "\n",
    "        # Pad sequences\n",
    "        spectrograms = nn.utils.rnn.pad_sequence(spectrograms, batch_first=True, padding_value=-80).unsqueeze(1).transpose(2, 3)\n",
    "\n",
    "        return spectrograms, input_lengths"
   ]
  },
  {
   "cell_type": "markdown",
   "metadata": {},
   "source": [
    "## Define the model"
   ]
  },
  {
   "cell_type": "code",
   "execution_count": 7,
   "metadata": {},
   "outputs": [],
   "source": [
    "# Model based on post at \"https://www.assemblyai.com/blog/end-to-end-speech-recognition-pytorch/\"\"\n",
    "class CNNLayerNorm(nn.Module):\n",
    "    \"\"\"Layer normalization built for cnns input\"\"\"\n",
    "    def __init__(self, n_feats):\n",
    "        super(CNNLayerNorm, self).__init__()\n",
    "        self.layer_norm = nn.LayerNorm(n_feats)\n",
    "\n",
    "    def forward(self, x):\n",
    "        # x (batch, channel, feature, time)\n",
    "        x = x.transpose(2, 3).contiguous() # (batch, channel, time, feature)\n",
    "        x = self.layer_norm(x)\n",
    "        return x.transpose(2, 3).contiguous() # (batch, channel, feature, time) \n",
    "    \n",
    "class ResidualCNN(nn.Module):\n",
    "    \"\"\"Residual CNN inspired by https://arxiv.org/pdf/1603.05027.pdf\n",
    "        except with layer norm instead of batch norm\n",
    "    \"\"\"\n",
    "    def __init__(self, in_channels, out_channels, kernel, stride, dropout, n_feats):\n",
    "        super(ResidualCNN, self).__init__()\n",
    "\n",
    "        self.cnn1 = nn.Conv2d(in_channels, out_channels, kernel, stride, padding=kernel//2)\n",
    "        self.cnn2 = nn.Conv2d(out_channels, out_channels, kernel, stride, padding=kernel//2)\n",
    "        self.dropout1 = nn.Dropout(dropout)\n",
    "        self.dropout2 = nn.Dropout(dropout)\n",
    "        self.layer_norm1 = CNNLayerNorm(n_feats)\n",
    "        self.layer_norm2 = CNNLayerNorm(n_feats)\n",
    "\n",
    "    def forward(self, x):\n",
    "        residual = x  # (batch, channel, feature, time)\n",
    "        x = self.layer_norm1(x)\n",
    "        x = F.gelu(x)\n",
    "        x = self.dropout1(x)\n",
    "        x = self.cnn1(x)\n",
    "        x = self.layer_norm2(x)\n",
    "        x = F.gelu(x)\n",
    "        x = self.dropout2(x)\n",
    "        x = self.cnn2(x)\n",
    "        x += residual\n",
    "        return x # (batch, channel, feature, time)\n",
    "    \n",
    "class BidirectionalGRU(nn.Module):\n",
    "\n",
    "    def __init__(self, rnn_dim, hidden_size, dropout, batch_first):\n",
    "        super(BidirectionalGRU, self).__init__()\n",
    "\n",
    "        self.BiGRU = nn.GRU(\n",
    "            input_size=rnn_dim, hidden_size=hidden_size,\n",
    "            num_layers=1, batch_first=batch_first, bidirectional=True)\n",
    "        self.layer_norm = nn.LayerNorm(rnn_dim)\n",
    "        self.dropout = nn.Dropout(dropout)\n",
    "\n",
    "    def forward(self, x):\n",
    "        x = self.layer_norm(x)\n",
    "        x = F.gelu(x)\n",
    "        x, _ = self.BiGRU(x)\n",
    "        x = self.dropout(x)\n",
    "        return x\n",
    "    \n",
    "class SpeechRecognitionModel(nn.Module):\n",
    "    \"\"\"Speech Recognition Model Inspired by DeepSpeech 2\"\"\"\n",
    "\n",
    "    def __init__(self, n_cnn_layers, n_rnn_layers, rnn_dim, n_class, n_feats, stride=2, dropout=0.1):\n",
    "        super(SpeechRecognitionModel, self).__init__()\n",
    "        n_feats = n_feats//2\n",
    "        self.cnn = nn.Conv2d(1, 32, 3, stride=stride, padding=3//2)  # cnn for extracting heirachal features\n",
    "\n",
    "        # n residual cnn layers with filter size of 32\n",
    "        self.rescnn_layers = nn.Sequential(*[\n",
    "            ResidualCNN(32, 32, kernel=3, stride=1, dropout=dropout, n_feats=n_feats) \n",
    "            for _ in range(n_cnn_layers)\n",
    "        ])\n",
    "        self.fully_connected = nn.Linear(n_feats*32, rnn_dim)\n",
    "        self.birnn_layers = nn.Sequential(*[\n",
    "            BidirectionalGRU(rnn_dim=rnn_dim if i==0 else rnn_dim*2,\n",
    "                             hidden_size=rnn_dim, dropout=dropout, batch_first=i==0)\n",
    "            for i in range(n_rnn_layers)\n",
    "        ])\n",
    "        self.classifier = nn.Sequential(\n",
    "            nn.Linear(rnn_dim*2, rnn_dim),  # birnn returns rnn_dim*2\n",
    "            nn.GELU(),\n",
    "            nn.Dropout(dropout),\n",
    "            nn.Linear(rnn_dim, n_class)\n",
    "        )\n",
    "\n",
    "    def forward(self, x):\n",
    "        x = self.cnn(x)\n",
    "        x = self.rescnn_layers(x)\n",
    "        sizes = x.size()\n",
    "        x = x.view(sizes[0], sizes[1] * sizes[2], sizes[3])  # (batch, feature, time)\n",
    "        x = x.transpose(1, 2) # (batch, time, feature)\n",
    "        x = self.fully_connected(x)\n",
    "        x = self.birnn_layers(x)\n",
    "        x = self.classifier(x)\n",
    "        return x"
   ]
  },
  {
   "cell_type": "markdown",
   "metadata": {},
   "source": [
    "## Basic greedy decoder (beam-search later)"
   ]
  },
  {
   "cell_type": "code",
   "execution_count": 8,
   "metadata": {},
   "outputs": [],
   "source": [
    "f = open(\"./working/unique_chars.txt\", \"r\", encoding=\"utf-8\")\n",
    "unique_chars = [label.replace('\\n', '') for label in f.readlines()]\n",
    "\n",
    "def GreedyDecoder(output, blank_label=len(unique_chars)-1, collapse_repeated=True):\n",
    "    arg_maxes = torch.argmax(output, dim=2)\n",
    "    decodes = []\n",
    "    targets = []\n",
    "    for i, args in enumerate(arg_maxes):\n",
    "        decode = []\n",
    "        for j, index in enumerate(args):\n",
    "            if index != blank_label:\n",
    "                if collapse_repeated and j != 0 and index == args[j -1]:\n",
    "                    continue\n",
    "                decode.append(unique_chars[index])\n",
    "        decodes.append(decode)\n",
    "    return decodes\n",
    "\n",
    "def norm_decoded_results(decoded_results):\n",
    "    bnorm = Normalizer()\n",
    "    evaluated_sentences = []\n",
    "    i=0\n",
    "    for utterance in decoded_results:\n",
    "        try:\n",
    "            # Normalize sentences with bnunicodenormalizer\n",
    "            utterance = \"\".join(utterance)\n",
    "            norm_tokens = [bnorm(word)['normalized'] for word in utterance.split()]\n",
    "            norm_sentence = \"\".join([word for word in norm_tokens if word is not None])\n",
    "        except:\n",
    "            norm_sentence = ','\n",
    "\n",
    "        # Combine decoded results into sentence\n",
    "        evaluated_sentences.append(norm_sentence)\n",
    "    \n",
    "    return evaluated_sentences"
   ]
  },
  {
   "cell_type": "markdown",
   "metadata": {},
   "source": [
    "## Create KenLM lexicon file"
   ]
  },
  {
   "cell_type": "code",
   "execution_count": 9,
   "metadata": {},
   "outputs": [
    {
     "name": "stderr",
     "output_type": "stream",
     "text": [
      "100%|████████████████████████████████████████████████████████████████████████| 40000/40000 [00:00<00:00, 195645.36it/s]"
     ]
    },
    {
     "name": "stdout",
     "output_type": "stream",
     "text": [
      "29605 lines saved out of 40000\n"
     ]
    },
    {
     "name": "stderr",
     "output_type": "stream",
     "text": [
      "\n"
     ]
    }
   ],
   "source": [
    "ken_vocab = open(\"./working/bn.sp.vocab\", \"r\", encoding='utf-8')\n",
    "lines = ken_vocab.readlines()\n",
    "\n",
    "line_count = 0\n",
    "with open('./working/lexicon.txt', 'w', encoding='utf-8') as file:\n",
    "    for line in tqdm(lines):\n",
    "        # Formatting from KenLM vocab file\n",
    "        line = line.split('\\t')\n",
    "        if '▁' in line[0]:\n",
    "            line = line[0].replace('▁', '')\n",
    "        else:\n",
    "            line = line[0]\n",
    "\n",
    "        char_list = [char for char in line]\n",
    "        # Do not process lines if they contain invalid characters\n",
    "        if any(map(lambda char: char not in unique_chars, char_list)):\n",
    "            continue\n",
    "        elif line == '':\n",
    "            continue\n",
    "        else:\n",
    "            processed_string = line + \" \" + \" \".join(line) + \" _\"\n",
    "            file.write(processed_string + '\\n')\n",
    "\n",
    "            line_count += 1\n",
    "print(str(line_count) + ' lines saved out of ' + str(len(lines)))\n",
    "file.close()"
   ]
  },
  {
   "cell_type": "markdown",
   "metadata": {},
   "source": [
    "## Beam search decoder with KenLM"
   ]
  },
  {
   "cell_type": "code",
   "execution_count": 10,
   "metadata": {},
   "outputs": [],
   "source": [
    "def BeamSearchDecoder(BEAM_SIZE, LM_WEIGHT):\n",
    "    decoder = ctc_decoder(lm=\"./working/bn.arpa.bin\",\n",
    "                          lexicon=\"./working/lexicon.txt\",\n",
    "                          tokens=\"./working/unique_chars.txt\",\n",
    "                          beam_size=BEAM_SIZE,\n",
    "                          lm_weight=LM_WEIGHT,\n",
    "                          sil_token=\" \",\n",
    "                          blank_token=\"_\")\n",
    "    return decoder"
   ]
  },
  {
   "cell_type": "markdown",
   "metadata": {},
   "source": [
    "## Training and inference functions"
   ]
  },
  {
   "cell_type": "code",
   "execution_count": 11,
   "metadata": {},
   "outputs": [],
   "source": [
    "class IterMeter(object):\n",
    "    \"\"\"keeps track of total iterations\"\"\"\n",
    "    def __init__(self):\n",
    "        self.val = 0\n",
    "\n",
    "    def step(self):\n",
    "        self.val += 1\n",
    "\n",
    "    def get(self):\n",
    "        return self.val\n",
    "\n",
    "def train(model, device, train_loader, criterion, optimizer, scheduler, epoch, iter_meter, scaler):\n",
    "    model.train()\n",
    "    # torch.autograd.set_detect_anomaly(True)\n",
    "    data_len = len(train_loader.dataset)\n",
    "    running_loss = 0\n",
    "    for batch_idx, _data in tqdm(enumerate(train_loader)):\n",
    "        spectrograms, labels, input_lengths, label_lengths = _data \n",
    "        spectrograms, labels = spectrograms.to(device), labels.to(device)\n",
    "\n",
    "        optimizer.zero_grad(set_to_none=True)\n",
    "        with torch.autocast(device_type=str(device), dtype=torch.float16):\n",
    "            output = model(spectrograms)  # (batch, time, n_class)\n",
    "            output = F.log_softmax(output, dim=2)\n",
    "            output = output.transpose(0, 1) # (time, batch, n_class)\n",
    "            \n",
    "            loss = criterion(output, labels, input_lengths, label_lengths)\n",
    "            \n",
    "        scaler.scale(loss).backward()\n",
    "            \n",
    "        running_loss += loss.item()\n",
    "        \n",
    "        scaler.step(optimizer)\n",
    "        scaler.update()\n",
    "        scheduler.step()\n",
    "        iter_meter.step()\n",
    "        if batch_idx % 250 == 0 or batch_idx == data_len:\n",
    "            print('Train Epoch: {} [{}/{} ({:.0f}%)]\\tLoss: {:.6f}'.format(\n",
    "                epoch, batch_idx * len(spectrograms), data_len,\n",
    "                100. * batch_idx / len(train_loader), running_loss/250))\n",
    "            running_loss = 0\n",
    "                \n",
    "def validate(model, device, val_loader, criterion, epoch, iter_meter, decode_mode='greedy'):\n",
    "    print('\\nvalidating…')\n",
    "    model.eval()\n",
    "    test_loss = 0\n",
    "    test_cer, test_wer = [], []\n",
    "    with torch.no_grad():\n",
    "        for batch_idx, _data in enumerate(val_loader):\n",
    "            spectrograms, labels, input_lengths, label_lengths = _data \n",
    "            spectrograms, labels = spectrograms.to(device), labels.to(device)\n",
    "\n",
    "            output = model(spectrograms)  # (batch, time, n_class)\n",
    "            output = F.log_softmax(output, dim=2)\n",
    "            output = output.transpose(0, 1) # (time, batch, n_class)\n",
    "\n",
    "            loss = criterion(output, labels, input_lengths, label_lengths)\n",
    "            test_loss += loss.item() / len(val_loader)\n",
    "            \n",
    "            if decode_mode == 'greedy':\n",
    "                # Compute WER and CER\n",
    "                decoded_preds = GreedyDecoder(output.transpose(0, 1))\n",
    "                decoded_preds = norm_decoded_results(decoded_preds)\n",
    "            else:\n",
    "                decoded_preds = BeamSearchDecoder(1000, 3.23)\n",
    "            \n",
    "            decoded_labels = []\n",
    "            for row in range(labels.shape[0]):\n",
    "                # Remove zero padding from left side of labels\n",
    "                unpadded_label = labels[row, labels[row,:]!=len(unique_chars)+1] # Pad character is set to len(unique_chars+1) in data_processing\n",
    "                decoded_labels.append(''.join(unique_chars[int(token.item())] for token in unpadded_label))\n",
    "\n",
    "            for i in range(len(decoded_preds)):\n",
    "                test_wer.append(wer(decoded_labels[i], decoded_preds[i]))\n",
    "                test_cer.append(cer(decoded_labels[i], decoded_preds[i]))\n",
    "                \n",
    "        if len(test_wer) > 0:\n",
    "            avg_wer = sum(test_wer)/len(test_wer)\n",
    "            avg_cer = sum(test_cer)/len(test_cer)\n",
    "        else:\n",
    "            avg_wer = 100\n",
    "            avg_cer = 100\n",
    "        \n",
    "        print('Train Epoch: {} \\t Validation loss: {:.6f}'.format(\n",
    "                epoch, test_loss))\n",
    "        print('Train Epoch: {} \\t Validation WER: {:.6f}'.format(\n",
    "                epoch, avg_wer))\n",
    "        print('Train Epoch: {} \\t Validation CER: {:.6f}'.format(\n",
    "                epoch, avg_cer))\n",
    "        \n",
    "        return test_loss, wer, cer\n",
    "\n",
    "def evaluate(model, device, eval_loader, iter_meter, decode_mode='greedy'):\n",
    "    print('\\nevaluating…')\n",
    "    model.eval()\n",
    "    decoded_results = []\n",
    "    with torch.no_grad():\n",
    "        for I, _data in enumerate(eval_loader):\n",
    "            spectrograms, input_lengths = _data \n",
    "            spectrograms = spectrograms.to(device)\n",
    "\n",
    "            output = model(spectrograms)  # (batch, time, n_class)\n",
    "            output = F.log_softmax(output, dim=2)\n",
    "            output = output.transpose(0, 1) # (time, batch, n_class)\n",
    "            \n",
    "            if decode_mode == 'greedy':\n",
    "                decoded_preds = GreedyDecoder(output.transpose(0, 1))\n",
    "                decoded_preds = norm_decoded_results(decoded_preds)\n",
    "            else:\n",
    "                decoded_preds = BeamSearchDecoder(1000, 3.23)\n",
    "    \n",
    "            decoded_results.append(decoded_preds)\n",
    "        \n",
    "    return decoded_results"
   ]
  },
  {
   "cell_type": "code",
   "execution_count": 12,
   "metadata": {},
   "outputs": [],
   "source": [
    "# bnorm = Normalizer()\n",
    "\n",
    "# # Instantiate training and validation dataset\n",
    "# train_audio_directory = './input/bengaliai-speech/train_mp3s/'\n",
    "# train_label_path = './working/norm_train.csv'\n",
    "# train_dataset, valid_dataset = torch.utils.data.random_split(BengaliAIDataset(train_label_path, train_audio_directory), \n",
    "#                                                              [round(len(BengaliAIDataset(train_label_path, train_audio_directory))*0.99),\n",
    "#                                                               round(len(BengaliAIDataset(train_label_path, train_audio_directory))*0.01)])\n",
    "\n",
    "# hparams = {\n",
    "#     \"n_cnn_layers\": 3,\n",
    "#     \"n_rnn_layers\": 3,\n",
    "#     \"rnn_dim\": 512,\n",
    "#     \"n_class\": len(unique_chars),\n",
    "#     \"n_feats\": 128,\n",
    "#     \"stride\": 2,\n",
    "#     \"dropout\": 0.1,\n",
    "#     \"learning_rate\": 1e-1,\n",
    "#     \"batch_size\": 1,\n",
    "#     \"epochs\": 1\n",
    "# }\n",
    "\n",
    "\n",
    "# use_cuda = torch.cuda.is_available()\n",
    "# torch.manual_seed(7)\n",
    "# device = torch.device(\"cuda\" if use_cuda else \"cpu\")\n",
    "\n",
    "# if not os.path.isdir(\"./data\"):\n",
    "#     os.makedirs(\"./data\")\n",
    "\n",
    "# kwargs = {'num_workers': 0, 'pin_memory': True} if use_cuda else {}\n",
    "# val_loader = DataLoader(dataset=valid_dataset,\n",
    "#                         batch_size=hparams['batch_size'],\n",
    "#                         shuffle=False,\n",
    "#                         collate_fn=lambda x: data_processing(x, 'validation'),\n",
    "#                         **kwargs)\n",
    "\n",
    "# criterion = nn.CTCLoss(blank=len(unique_chars)-1, zero_infinity=True).to(device)\n",
    "\n",
    "# iter_meter = IterMeter()\n",
    "# test_loss, test_wer, test_cer = validate(trained_model, device, val_loader, criterion, 1, iter_meter, decode_mode='beam')"
   ]
  },
  {
   "cell_type": "code",
   "execution_count": 14,
   "metadata": {},
   "outputs": [],
   "source": [
    "def train_and_validation(learning_rate=5e-4, batch_size=4, epochs=1):\n",
    "    \n",
    "    torch.manual_seed(7) # For reproducibility\n",
    "    \n",
    "    # Instantiate training and validation dataset\n",
    "    train_audio_directory = './input/bengaliai-speech/train_mp3s/'\n",
    "    train_label_path = './working/norm_train.csv'\n",
    "    train_dataset, valid_dataset = torch.utils.data.random_split(BengaliAIDataset(train_label_path, train_audio_directory), \n",
    "                                                                 [round(len(BengaliAIDataset(train_label_path, train_audio_directory))*0.999),\n",
    "                                                                  round(len(BengaliAIDataset(train_label_path, train_audio_directory))*0.001)])\n",
    "\n",
    "    hparams = {\n",
    "        \"n_cnn_layers\": 3,\n",
    "        \"n_rnn_layers\": 3,\n",
    "        \"rnn_dim\": 512,\n",
    "        \"n_class\": len(unique_chars),\n",
    "        \"n_feats\": 128,\n",
    "        \"stride\": 2,\n",
    "        \"dropout\": 0.1,\n",
    "        \"learning_rate\": learning_rate,\n",
    "        \"batch_size\": batch_size,\n",
    "        \"epochs\": epochs\n",
    "    }\n",
    "\n",
    "    use_cuda = torch.cuda.is_available()\n",
    "    device = torch.device(\"cuda\" if use_cuda else \"cpu\")\n",
    "    print('Training device: ' + str(device))\n",
    "\n",
    "    if not os.path.isdir(\"./data\"):\n",
    "        os.makedirs(\"./data\")\n",
    "\n",
    "    kwargs = {'num_workers': 0, 'pin_memory': True} if use_cuda else {}\n",
    "    train_loader = DataLoader(dataset=train_dataset,\n",
    "                              batch_size=hparams['batch_size'],\n",
    "                              shuffle=True,  # Change to True for full training runs\n",
    "                              collate_fn=lambda x: data_processing(x, 'training'),\n",
    "                              **kwargs)\n",
    "    \n",
    "    val_loader = DataLoader(dataset=valid_dataset,\n",
    "                            batch_size=hparams['batch_size'],\n",
    "                            shuffle=False,\n",
    "                            collate_fn=lambda x: data_processing(x, 'validation'),\n",
    "                            **kwargs)\n",
    "\n",
    "    model = SpeechRecognitionModel(\n",
    "        hparams['n_cnn_layers'], hparams['n_rnn_layers'], hparams['rnn_dim'],\n",
    "        hparams['n_class'], hparams['n_feats'], hparams['stride'], hparams['dropout']\n",
    "        ).to(device)\n",
    "\n",
    "    print('Num Model Parameters', sum([param.nelement() for param in model.parameters()]))\n",
    "\n",
    "    optimizer = optim.AdamW(model.parameters(), hparams['learning_rate'])\n",
    "    criterion = nn.CTCLoss(blank=len(unique_chars)-1, zero_infinity=True).to(device)\n",
    "    scheduler = optim.lr_scheduler.OneCycleLR(optimizer, max_lr=hparams['learning_rate'], \n",
    "                                              steps_per_epoch=int(len(train_loader)),\n",
    "                                              epochs=hparams['epochs'],\n",
    "                                              anneal_strategy='cos',\n",
    "                                              div_factor=10,\n",
    "                                              final_div_factor=100,\n",
    "                                              pct_start=0.1)\n",
    "\n",
    "    iter_meter = IterMeter()\n",
    "    prev_loss = 10\n",
    "    scaler = torch.cuda.amp.GradScaler()\n",
    "    for epoch in range(1, epochs + 1):\n",
    "        train(model, device, train_loader, criterion, optimizer, scheduler, epoch, iter_meter, scaler)\n",
    "        val_loss, val_wer, val_cer = validate(model, device, val_loader, criterion, epoch, iter_meter)\n",
    "        \n",
    "        if val_loss < prev_loss:\n",
    "            print('Saving checkpoint...')\n",
    "            torch.save({\n",
    "                'epoch': epoch,\n",
    "                'model_state_dict': model.state_dict(),\n",
    "                'optimizer_state_dict': optimizer.state_dict(),\n",
    "                'scaler_state_dict': scaler.state_dict(),\n",
    "                'val loss': val_loss,\n",
    "                'val_wer': val_wer,\n",
    "                'val_cer': val_cer\n",
    "            }, './training_checkpoint.tar')\n",
    "            \n",
    "            prev_loss = val_loss\n",
    "    \n",
    "    return model\n",
    "\n",
    "def train_from_checkpoint(learning_rate=5e-4, batch_size=4, epochs=1):\n",
    "    torch.manual_seed(7) # For reproducibility\n",
    "    \n",
    "    # Instantiate training and validation dataset\n",
    "    train_audio_directory = './input/bengaliai-speech/train_mp3s/'\n",
    "    train_label_path = './working/norm_train.csv'\n",
    "    train_dataset, valid_dataset = torch.utils.data.random_split(BengaliAIDataset(train_label_path, train_audio_directory), \n",
    "                                                                 [round(len(BengaliAIDataset(train_label_path, train_audio_directory))*0.999),\n",
    "                                                                  round(len(BengaliAIDataset(train_label_path, train_audio_directory))*0.001)])\n",
    "    \n",
    "    hparams = {\n",
    "        \"n_cnn_layers\": 3,\n",
    "        \"n_rnn_layers\": 3,\n",
    "        \"rnn_dim\": 512,\n",
    "        \"n_class\": len(unique_chars),\n",
    "        \"n_feats\": 128,\n",
    "        \"stride\": 2,\n",
    "        \"dropout\": 0.1,\n",
    "        \"learning_rate\": learning_rate,\n",
    "        \"batch_size\": batch_size,\n",
    "        \"epochs\": epochs\n",
    "    }\n",
    "\n",
    "    use_cuda = torch.cuda.is_available()\n",
    "    device = torch.device(\"cuda\" if use_cuda else \"cpu\")\n",
    "    print('Training device: ' + str(device))\n",
    "\n",
    "    if not os.path.isdir(\"./data\"):\n",
    "        os.makedirs(\"./data\")\n",
    "        \n",
    "    kwargs = {'num_workers': 0, 'pin_memory': True} if use_cuda else {}\n",
    "    train_loader = DataLoader(dataset=train_dataset,\n",
    "                              batch_size=hparams['batch_size'],\n",
    "                              shuffle=True,  # Change to True for full training runs\n",
    "                              collate_fn=lambda x: data_processing(x, 'training'),\n",
    "                              **kwargs)\n",
    "    \n",
    "    val_loader = DataLoader(dataset=valid_dataset,\n",
    "                            batch_size=hparams['batch_size'],\n",
    "                            shuffle=False,\n",
    "                            collate_fn=lambda x: data_processing(x, 'validation'),\n",
    "                            **kwargs)\n",
    "    \n",
    "    checkpoint = torch.load('./training_checkpoint.tar')\n",
    "\n",
    "    model = SpeechRecognitionModel(\n",
    "        hparams['n_cnn_layers'], hparams['n_rnn_layers'], hparams['rnn_dim'],\n",
    "        hparams['n_class'], hparams['n_feats'], hparams['stride'], hparams['dropout']\n",
    "        ).to(device)\n",
    "    model.load_state_dict(checkpoint['model_state_dict'])\n",
    "\n",
    "    optimizer = optim.AdamW(model.parameters(), hparams['learning_rate'])\n",
    "    optimizer.load_state_dict(checkpoint['optimizer_state_dict'])\n",
    "    \n",
    "    criterion = nn.CTCLoss(blank=len(unique_chars)-1, zero_infinity=True).to(device)\n",
    "    scheduler = optim.lr_scheduler.OneCycleLR(optimizer, max_lr=hparams['learning_rate'], \n",
    "                                              steps_per_epoch=int(len(train_loader)),\n",
    "                                              epochs=hparams['epochs'],\n",
    "                                              anneal_strategy='cos',\n",
    "                                              div_factor=10,\n",
    "                                              final_div_factor=100,\n",
    "                                              pct_start=0.1)\n",
    "    \n",
    "    last_epoch = checkpoint['epoch']\n",
    "\n",
    "    iter_meter = IterMeter()\n",
    "    prev_loss = checkpoint['val loss']\n",
    "    scaler = torch.cuda.amp.GradScaler()\n",
    "    scaler.load_state_dict(checkpoint[\"scaler_state_dict\"])\n",
    "    for epoch in range(1, epochs + 1):\n",
    "        train(model, device, train_loader, criterion, optimizer, scheduler, epoch+last_epoch, iter_meter, scaler)\n",
    "        val_loss, val_wer, val_cer = validate(model, device, val_loader, criterion, epoch+last_epoch, iter_meter)\n",
    "        \n",
    "        if val_loss < prev_loss:\n",
    "            print('Saving checkpoint...')\n",
    "            torch.save({\n",
    "                'epoch': epoch+last_epoch,\n",
    "                'model_state_dict': model.state_dict(),\n",
    "                'optimizer_state_dict': optimizer.state_dict(),\n",
    "                'scaler_state_dict': scaler.state_dict(),\n",
    "                'val loss': val_loss,\n",
    "                'val_wer': val_wer,\n",
    "                'val_cer': val_cer\n",
    "            }, './training_checkpoint.tar')\n",
    "        \n",
    "            prev_loss = val_loss\n",
    "    \n",
    "    return model"
   ]
  },
  {
   "cell_type": "markdown",
   "metadata": {},
   "source": [
    "## Train model"
   ]
  },
  {
   "cell_type": "code",
   "execution_count": 15,
   "metadata": {
    "scrolled": true,
    "tags": []
   },
   "outputs": [
    {
     "name": "stdout",
     "output_type": "stream",
     "text": [
      "Training device: cuda\n",
      "Num Model Parameters 14271299\n"
     ]
    },
    {
     "name": "stderr",
     "output_type": "stream",
     "text": [
      "0it [00:00, ?it/s]C:\\Users\\Dawson\\anaconda3\\envs\\pytorch\\lib\\site-packages\\torch\\optim\\lr_scheduler.py:139: UserWarning: Detected call of `lr_scheduler.step()` before `optimizer.step()`. In PyTorch 1.1.0 and later, you should call them in the opposite order: `optimizer.step()` before `lr_scheduler.step()`.  Failure to do this will result in PyTorch skipping the first value of the learning rate schedule. See more details at https://pytorch.org/docs/stable/optim.html#how-to-adjust-learning-rate\n",
      "  warnings.warn(\"Detected call of `lr_scheduler.step()` before `optimizer.step()`. \"\n",
      "1it [00:02,  2.48s/it]"
     ]
    },
    {
     "name": "stdout",
     "output_type": "stream",
     "text": [
      "Train Epoch: 1 [0/49950 (0%)]\tLoss: 0.050877\n"
     ]
    },
    {
     "name": "stderr",
     "output_type": "stream",
     "text": [
      "251it [03:03,  1.22it/s]"
     ]
    },
    {
     "name": "stdout",
     "output_type": "stream",
     "text": [
      "Train Epoch: 1 [8000/49950 (16%)]\tLoss: 3.852864\n"
     ]
    },
    {
     "name": "stderr",
     "output_type": "stream",
     "text": [
      "501it [05:41,  2.41it/s]"
     ]
    },
    {
     "name": "stdout",
     "output_type": "stream",
     "text": [
      "Train Epoch: 1 [16000/49950 (32%)]\tLoss: 3.419862\n"
     ]
    },
    {
     "name": "stderr",
     "output_type": "stream",
     "text": [
      "751it [08:42,  1.32it/s]"
     ]
    },
    {
     "name": "stdout",
     "output_type": "stream",
     "text": [
      "Train Epoch: 1 [24000/49950 (48%)]\tLoss: 3.288844\n"
     ]
    },
    {
     "name": "stderr",
     "output_type": "stream",
     "text": [
      "1001it [11:32,  1.14it/s]"
     ]
    },
    {
     "name": "stdout",
     "output_type": "stream",
     "text": [
      "Train Epoch: 1 [32000/49950 (64%)]\tLoss: 2.989964\n"
     ]
    },
    {
     "name": "stderr",
     "output_type": "stream",
     "text": [
      "1251it [14:34,  1.35s/it]"
     ]
    },
    {
     "name": "stdout",
     "output_type": "stream",
     "text": [
      "Train Epoch: 1 [40000/49950 (80%)]\tLoss: 2.351088\n"
     ]
    },
    {
     "name": "stderr",
     "output_type": "stream",
     "text": [
      "1501it [17:40,  2.75it/s]"
     ]
    },
    {
     "name": "stdout",
     "output_type": "stream",
     "text": [
      "Train Epoch: 1 [48000/49950 (96%)]\tLoss: 2.081092\n"
     ]
    },
    {
     "name": "stderr",
     "output_type": "stream",
     "text": [
      "1561it [18:18,  1.42it/s]\n"
     ]
    },
    {
     "name": "stdout",
     "output_type": "stream",
     "text": [
      "\n",
      "validating…\n",
      "Train Epoch: 1 \t Validation loss: 1.824402\n",
      "Train Epoch: 1 \t Validation WER: 1.000000\n",
      "Train Epoch: 1 \t Validation CER: 0.609132\n",
      "Saving checkpoint...\n"
     ]
    },
    {
     "name": "stderr",
     "output_type": "stream",
     "text": [
      "1it [00:00,  2.72it/s]"
     ]
    },
    {
     "name": "stdout",
     "output_type": "stream",
     "text": [
      "Train Epoch: 2 [0/49950 (0%)]\tLoss: 0.006134\n"
     ]
    },
    {
     "name": "stderr",
     "output_type": "stream",
     "text": [
      "251it [02:44,  2.31it/s]"
     ]
    },
    {
     "name": "stdout",
     "output_type": "stream",
     "text": [
      "Train Epoch: 2 [8000/49950 (16%)]\tLoss: 1.916212\n"
     ]
    },
    {
     "name": "stderr",
     "output_type": "stream",
     "text": [
      "501it [05:09,  1.47it/s]"
     ]
    },
    {
     "name": "stdout",
     "output_type": "stream",
     "text": [
      "Train Epoch: 2 [16000/49950 (32%)]\tLoss: 1.847106\n"
     ]
    },
    {
     "name": "stderr",
     "output_type": "stream",
     "text": [
      "751it [08:07,  1.50it/s]"
     ]
    },
    {
     "name": "stdout",
     "output_type": "stream",
     "text": [
      "Train Epoch: 2 [24000/49950 (48%)]\tLoss: 1.798712\n"
     ]
    },
    {
     "name": "stderr",
     "output_type": "stream",
     "text": [
      "1001it [10:38,  2.65it/s]"
     ]
    },
    {
     "name": "stdout",
     "output_type": "stream",
     "text": [
      "Train Epoch: 2 [32000/49950 (64%)]\tLoss: 1.745762\n"
     ]
    },
    {
     "name": "stderr",
     "output_type": "stream",
     "text": [
      "1251it [13:03,  2.15it/s]"
     ]
    },
    {
     "name": "stdout",
     "output_type": "stream",
     "text": [
      "Train Epoch: 2 [40000/49950 (80%)]\tLoss: 1.716117\n"
     ]
    },
    {
     "name": "stderr",
     "output_type": "stream",
     "text": [
      "1501it [15:42,  1.78it/s]"
     ]
    },
    {
     "name": "stdout",
     "output_type": "stream",
     "text": [
      "Train Epoch: 2 [48000/49950 (96%)]\tLoss: 1.685556\n"
     ]
    },
    {
     "name": "stderr",
     "output_type": "stream",
     "text": [
      "1561it [16:27,  1.58it/s]\n"
     ]
    },
    {
     "name": "stdout",
     "output_type": "stream",
     "text": [
      "\n",
      "validating…\n",
      "Train Epoch: 2 \t Validation loss: 1.499460\n",
      "Train Epoch: 2 \t Validation WER: 1.000000\n",
      "Train Epoch: 2 \t Validation CER: 0.521305\n",
      "Saving checkpoint...\n"
     ]
    },
    {
     "name": "stderr",
     "output_type": "stream",
     "text": [
      "1it [00:00,  2.84it/s]"
     ]
    },
    {
     "name": "stdout",
     "output_type": "stream",
     "text": [
      "Train Epoch: 3 [0/49950 (0%)]\tLoss: 0.006649\n"
     ]
    },
    {
     "name": "stderr",
     "output_type": "stream",
     "text": [
      "251it [03:03,  1.53it/s]"
     ]
    },
    {
     "name": "stdout",
     "output_type": "stream",
     "text": [
      "Train Epoch: 3 [8000/49950 (16%)]\tLoss: 1.586286\n"
     ]
    },
    {
     "name": "stderr",
     "output_type": "stream",
     "text": [
      "501it [06:01,  1.77it/s]"
     ]
    },
    {
     "name": "stdout",
     "output_type": "stream",
     "text": [
      "Train Epoch: 3 [16000/49950 (32%)]\tLoss: 1.570807\n"
     ]
    },
    {
     "name": "stderr",
     "output_type": "stream",
     "text": [
      "751it [08:53,  1.94it/s]"
     ]
    },
    {
     "name": "stdout",
     "output_type": "stream",
     "text": [
      "Train Epoch: 3 [24000/49950 (48%)]\tLoss: 1.576487\n"
     ]
    },
    {
     "name": "stderr",
     "output_type": "stream",
     "text": [
      "1001it [11:41,  1.01s/it]"
     ]
    },
    {
     "name": "stdout",
     "output_type": "stream",
     "text": [
      "Train Epoch: 3 [32000/49950 (64%)]\tLoss: 1.574965\n"
     ]
    },
    {
     "name": "stderr",
     "output_type": "stream",
     "text": [
      "1251it [14:38,  1.68it/s]"
     ]
    },
    {
     "name": "stdout",
     "output_type": "stream",
     "text": [
      "Train Epoch: 3 [40000/49950 (80%)]\tLoss: 1.582421\n"
     ]
    },
    {
     "name": "stderr",
     "output_type": "stream",
     "text": [
      "1501it [17:39,  1.85it/s]"
     ]
    },
    {
     "name": "stdout",
     "output_type": "stream",
     "text": [
      "Train Epoch: 3 [48000/49950 (96%)]\tLoss: 1.527894\n"
     ]
    },
    {
     "name": "stderr",
     "output_type": "stream",
     "text": [
      "1561it [18:23,  1.41it/s]\n"
     ]
    },
    {
     "name": "stdout",
     "output_type": "stream",
     "text": [
      "\n",
      "validating…\n",
      "Train Epoch: 3 \t Validation loss: 1.370430\n",
      "Train Epoch: 3 \t Validation WER: 1.000000\n",
      "Train Epoch: 3 \t Validation CER: 0.496907\n",
      "Saving checkpoint...\n"
     ]
    },
    {
     "name": "stderr",
     "output_type": "stream",
     "text": [
      "1it [00:00,  3.47it/s]"
     ]
    },
    {
     "name": "stdout",
     "output_type": "stream",
     "text": [
      "Train Epoch: 4 [0/49950 (0%)]\tLoss: 0.005603\n"
     ]
    },
    {
     "name": "stderr",
     "output_type": "stream",
     "text": [
      "251it [02:36,  2.38it/s]"
     ]
    },
    {
     "name": "stdout",
     "output_type": "stream",
     "text": [
      "Train Epoch: 4 [8000/49950 (16%)]\tLoss: 1.463271\n"
     ]
    },
    {
     "name": "stderr",
     "output_type": "stream",
     "text": [
      "501it [04:58,  1.43it/s]"
     ]
    },
    {
     "name": "stdout",
     "output_type": "stream",
     "text": [
      "Train Epoch: 4 [16000/49950 (32%)]\tLoss: 1.445374\n"
     ]
    },
    {
     "name": "stderr",
     "output_type": "stream",
     "text": [
      "751it [07:30,  1.47it/s]"
     ]
    },
    {
     "name": "stdout",
     "output_type": "stream",
     "text": [
      "Train Epoch: 4 [24000/49950 (48%)]\tLoss: 1.459617\n"
     ]
    },
    {
     "name": "stderr",
     "output_type": "stream",
     "text": [
      "1001it [09:55,  1.74it/s]"
     ]
    },
    {
     "name": "stdout",
     "output_type": "stream",
     "text": [
      "Train Epoch: 4 [32000/49950 (64%)]\tLoss: 1.435465\n"
     ]
    },
    {
     "name": "stderr",
     "output_type": "stream",
     "text": [
      "1251it [12:47,  1.80it/s]"
     ]
    },
    {
     "name": "stdout",
     "output_type": "stream",
     "text": [
      "Train Epoch: 4 [40000/49950 (80%)]\tLoss: 1.419493\n"
     ]
    },
    {
     "name": "stderr",
     "output_type": "stream",
     "text": [
      "1501it [15:39,  1.99it/s]"
     ]
    },
    {
     "name": "stdout",
     "output_type": "stream",
     "text": [
      "Train Epoch: 4 [48000/49950 (96%)]\tLoss: 1.433379\n"
     ]
    },
    {
     "name": "stderr",
     "output_type": "stream",
     "text": [
      "1561it [16:15,  1.60it/s]\n"
     ]
    },
    {
     "name": "stdout",
     "output_type": "stream",
     "text": [
      "\n",
      "validating…\n",
      "Train Epoch: 4 \t Validation loss: 1.301237\n",
      "Train Epoch: 4 \t Validation WER: 1.000000\n",
      "Train Epoch: 4 \t Validation CER: 0.482890\n",
      "Saving checkpoint...\n"
     ]
    },
    {
     "name": "stderr",
     "output_type": "stream",
     "text": [
      "1it [00:02,  2.06s/it]"
     ]
    },
    {
     "name": "stdout",
     "output_type": "stream",
     "text": [
      "Train Epoch: 5 [0/49950 (0%)]\tLoss: 0.005165\n"
     ]
    },
    {
     "name": "stderr",
     "output_type": "stream",
     "text": [
      "251it [02:42,  1.52it/s]"
     ]
    },
    {
     "name": "stdout",
     "output_type": "stream",
     "text": [
      "Train Epoch: 5 [8000/49950 (16%)]\tLoss: 1.318625\n"
     ]
    },
    {
     "name": "stderr",
     "output_type": "stream",
     "text": [
      "501it [05:22,  3.05it/s]"
     ]
    },
    {
     "name": "stdout",
     "output_type": "stream",
     "text": [
      "Train Epoch: 5 [16000/49950 (32%)]\tLoss: 1.351418\n"
     ]
    },
    {
     "name": "stderr",
     "output_type": "stream",
     "text": [
      "751it [07:55,  1.57it/s]"
     ]
    },
    {
     "name": "stdout",
     "output_type": "stream",
     "text": [
      "Train Epoch: 5 [24000/49950 (48%)]\tLoss: 1.344754\n"
     ]
    },
    {
     "name": "stderr",
     "output_type": "stream",
     "text": [
      "1001it [10:40,  1.57it/s]"
     ]
    },
    {
     "name": "stdout",
     "output_type": "stream",
     "text": [
      "Train Epoch: 5 [32000/49950 (64%)]\tLoss: 1.357612\n"
     ]
    },
    {
     "name": "stderr",
     "output_type": "stream",
     "text": [
      "1251it [13:11,  3.27it/s]"
     ]
    },
    {
     "name": "stdout",
     "output_type": "stream",
     "text": [
      "Train Epoch: 5 [40000/49950 (80%)]\tLoss: 1.333663\n"
     ]
    },
    {
     "name": "stderr",
     "output_type": "stream",
     "text": [
      "1501it [15:55,  1.90it/s]"
     ]
    },
    {
     "name": "stdout",
     "output_type": "stream",
     "text": [
      "Train Epoch: 5 [48000/49950 (96%)]\tLoss: 1.330622\n"
     ]
    },
    {
     "name": "stderr",
     "output_type": "stream",
     "text": [
      "1561it [16:31,  1.57it/s]\n"
     ]
    },
    {
     "name": "stdout",
     "output_type": "stream",
     "text": [
      "\n",
      "validating…\n",
      "Train Epoch: 5 \t Validation loss: 1.256645\n",
      "Train Epoch: 5 \t Validation WER: 1.000000\n",
      "Train Epoch: 5 \t Validation CER: 0.464706\n",
      "Saving checkpoint...\n"
     ]
    },
    {
     "name": "stderr",
     "output_type": "stream",
     "text": [
      "1it [00:01,  1.01s/it]"
     ]
    },
    {
     "name": "stdout",
     "output_type": "stream",
     "text": [
      "Train Epoch: 6 [0/49950 (0%)]\tLoss: 0.004725\n"
     ]
    },
    {
     "name": "stderr",
     "output_type": "stream",
     "text": [
      "251it [02:49,  1.34it/s]"
     ]
    },
    {
     "name": "stdout",
     "output_type": "stream",
     "text": [
      "Train Epoch: 6 [8000/49950 (16%)]\tLoss: 1.228573\n"
     ]
    },
    {
     "name": "stderr",
     "output_type": "stream",
     "text": [
      "501it [05:16,  2.83it/s]"
     ]
    },
    {
     "name": "stdout",
     "output_type": "stream",
     "text": [
      "Train Epoch: 6 [16000/49950 (32%)]\tLoss: 1.272220\n"
     ]
    },
    {
     "name": "stderr",
     "output_type": "stream",
     "text": [
      "751it [07:58,  2.60it/s]"
     ]
    },
    {
     "name": "stdout",
     "output_type": "stream",
     "text": [
      "Train Epoch: 6 [24000/49950 (48%)]\tLoss: 1.222336\n"
     ]
    },
    {
     "name": "stderr",
     "output_type": "stream",
     "text": [
      "1001it [10:37,  1.50it/s]"
     ]
    },
    {
     "name": "stdout",
     "output_type": "stream",
     "text": [
      "Train Epoch: 6 [32000/49950 (64%)]\tLoss: 1.250995\n"
     ]
    },
    {
     "name": "stderr",
     "output_type": "stream",
     "text": [
      "1251it [13:19,  1.22s/it]"
     ]
    },
    {
     "name": "stdout",
     "output_type": "stream",
     "text": [
      "Train Epoch: 6 [40000/49950 (80%)]\tLoss: 1.245985\n"
     ]
    },
    {
     "name": "stderr",
     "output_type": "stream",
     "text": [
      "1501it [16:05,  1.25it/s]"
     ]
    },
    {
     "name": "stdout",
     "output_type": "stream",
     "text": [
      "Train Epoch: 6 [48000/49950 (96%)]\tLoss: 1.248095\n"
     ]
    },
    {
     "name": "stderr",
     "output_type": "stream",
     "text": [
      "1561it [16:40,  1.56it/s]\n"
     ]
    },
    {
     "name": "stdout",
     "output_type": "stream",
     "text": [
      "\n",
      "validating…\n",
      "Train Epoch: 6 \t Validation loss: 1.220248\n",
      "Train Epoch: 6 \t Validation WER: 1.000000\n",
      "Train Epoch: 6 \t Validation CER: 0.456940\n",
      "Saving checkpoint...\n"
     ]
    },
    {
     "name": "stderr",
     "output_type": "stream",
     "text": [
      "1it [00:00,  3.56it/s]"
     ]
    },
    {
     "name": "stdout",
     "output_type": "stream",
     "text": [
      "Train Epoch: 7 [0/49950 (0%)]\tLoss: 0.003965\n"
     ]
    },
    {
     "name": "stderr",
     "output_type": "stream",
     "text": [
      "251it [02:42,  2.24it/s]"
     ]
    },
    {
     "name": "stdout",
     "output_type": "stream",
     "text": [
      "Train Epoch: 7 [8000/49950 (16%)]\tLoss: 1.164817\n"
     ]
    },
    {
     "name": "stderr",
     "output_type": "stream",
     "text": [
      "501it [05:11,  1.55it/s]"
     ]
    },
    {
     "name": "stdout",
     "output_type": "stream",
     "text": [
      "Train Epoch: 7 [16000/49950 (32%)]\tLoss: 1.163111\n"
     ]
    },
    {
     "name": "stderr",
     "output_type": "stream",
     "text": [
      "751it [07:38,  1.14it/s]"
     ]
    },
    {
     "name": "stdout",
     "output_type": "stream",
     "text": [
      "Train Epoch: 7 [24000/49950 (48%)]\tLoss: 1.170771\n"
     ]
    },
    {
     "name": "stderr",
     "output_type": "stream",
     "text": [
      "1001it [10:21,  1.57it/s]"
     ]
    },
    {
     "name": "stdout",
     "output_type": "stream",
     "text": [
      "Train Epoch: 7 [32000/49950 (64%)]\tLoss: 1.162407\n"
     ]
    },
    {
     "name": "stderr",
     "output_type": "stream",
     "text": [
      "1251it [13:06,  2.47it/s]"
     ]
    },
    {
     "name": "stdout",
     "output_type": "stream",
     "text": [
      "Train Epoch: 7 [40000/49950 (80%)]\tLoss: 1.162725\n"
     ]
    },
    {
     "name": "stderr",
     "output_type": "stream",
     "text": [
      "1501it [15:42,  2.08it/s]"
     ]
    },
    {
     "name": "stdout",
     "output_type": "stream",
     "text": [
      "Train Epoch: 7 [48000/49950 (96%)]\tLoss: 1.153265\n"
     ]
    },
    {
     "name": "stderr",
     "output_type": "stream",
     "text": [
      "1561it [16:27,  1.58it/s]\n"
     ]
    },
    {
     "name": "stdout",
     "output_type": "stream",
     "text": [
      "\n",
      "validating…\n",
      "Train Epoch: 7 \t Validation loss: 1.217319\n",
      "Train Epoch: 7 \t Validation WER: 1.000000\n",
      "Train Epoch: 7 \t Validation CER: 0.450756\n",
      "Saving checkpoint...\n"
     ]
    },
    {
     "name": "stderr",
     "output_type": "stream",
     "text": [
      "1it [00:01,  1.27s/it]"
     ]
    },
    {
     "name": "stdout",
     "output_type": "stream",
     "text": [
      "Train Epoch: 8 [0/49950 (0%)]\tLoss: 0.004625\n"
     ]
    },
    {
     "name": "stderr",
     "output_type": "stream",
     "text": [
      "251it [02:50,  1.45s/it]"
     ]
    },
    {
     "name": "stdout",
     "output_type": "stream",
     "text": [
      "Train Epoch: 8 [8000/49950 (16%)]\tLoss: 1.097505\n"
     ]
    },
    {
     "name": "stderr",
     "output_type": "stream",
     "text": [
      "501it [05:26,  2.29it/s]"
     ]
    },
    {
     "name": "stdout",
     "output_type": "stream",
     "text": [
      "Train Epoch: 8 [16000/49950 (32%)]\tLoss: 1.088695\n"
     ]
    },
    {
     "name": "stderr",
     "output_type": "stream",
     "text": [
      "751it [08:09,  3.19it/s]"
     ]
    },
    {
     "name": "stdout",
     "output_type": "stream",
     "text": [
      "Train Epoch: 8 [24000/49950 (48%)]\tLoss: 1.091081\n"
     ]
    },
    {
     "name": "stderr",
     "output_type": "stream",
     "text": [
      "1001it [10:44,  2.85it/s]"
     ]
    },
    {
     "name": "stdout",
     "output_type": "stream",
     "text": [
      "Train Epoch: 8 [32000/49950 (64%)]\tLoss: 1.091804\n"
     ]
    },
    {
     "name": "stderr",
     "output_type": "stream",
     "text": [
      "1251it [13:20,  2.53it/s]"
     ]
    },
    {
     "name": "stdout",
     "output_type": "stream",
     "text": [
      "Train Epoch: 8 [40000/49950 (80%)]\tLoss: 1.102768\n"
     ]
    },
    {
     "name": "stderr",
     "output_type": "stream",
     "text": [
      "1501it [15:48,  1.38it/s]"
     ]
    },
    {
     "name": "stdout",
     "output_type": "stream",
     "text": [
      "Train Epoch: 8 [48000/49950 (96%)]\tLoss: 1.099754\n"
     ]
    },
    {
     "name": "stderr",
     "output_type": "stream",
     "text": [
      "1561it [16:26,  1.58it/s]\n"
     ]
    },
    {
     "name": "stdout",
     "output_type": "stream",
     "text": [
      "\n",
      "validating…\n",
      "Train Epoch: 8 \t Validation loss: 1.183048\n",
      "Train Epoch: 8 \t Validation WER: 1.000000\n",
      "Train Epoch: 8 \t Validation CER: 0.435949\n",
      "Saving checkpoint...\n"
     ]
    },
    {
     "name": "stderr",
     "output_type": "stream",
     "text": [
      "1it [00:00,  3.95it/s]"
     ]
    },
    {
     "name": "stdout",
     "output_type": "stream",
     "text": [
      "Train Epoch: 9 [0/49950 (0%)]\tLoss: 0.004806\n"
     ]
    },
    {
     "name": "stderr",
     "output_type": "stream",
     "text": [
      "251it [02:33,  1.21it/s]"
     ]
    },
    {
     "name": "stdout",
     "output_type": "stream",
     "text": [
      "Train Epoch: 9 [8000/49950 (16%)]\tLoss: 1.051110\n"
     ]
    },
    {
     "name": "stderr",
     "output_type": "stream",
     "text": [
      "501it [04:55,  1.99it/s]"
     ]
    },
    {
     "name": "stdout",
     "output_type": "stream",
     "text": [
      "Train Epoch: 9 [16000/49950 (32%)]\tLoss: 1.045682\n"
     ]
    },
    {
     "name": "stderr",
     "output_type": "stream",
     "text": [
      "751it [07:39,  1.06s/it]"
     ]
    },
    {
     "name": "stdout",
     "output_type": "stream",
     "text": [
      "Train Epoch: 9 [24000/49950 (48%)]\tLoss: 1.047423\n"
     ]
    },
    {
     "name": "stderr",
     "output_type": "stream",
     "text": [
      "1001it [10:29,  1.25it/s]"
     ]
    },
    {
     "name": "stdout",
     "output_type": "stream",
     "text": [
      "Train Epoch: 9 [32000/49950 (64%)]\tLoss: 1.059599\n"
     ]
    },
    {
     "name": "stderr",
     "output_type": "stream",
     "text": [
      "1251it [13:02,  1.60it/s]"
     ]
    },
    {
     "name": "stdout",
     "output_type": "stream",
     "text": [
      "Train Epoch: 9 [40000/49950 (80%)]\tLoss: 1.054683\n"
     ]
    },
    {
     "name": "stderr",
     "output_type": "stream",
     "text": [
      "1501it [15:41,  3.33it/s]"
     ]
    },
    {
     "name": "stdout",
     "output_type": "stream",
     "text": [
      "Train Epoch: 9 [48000/49950 (96%)]\tLoss: 1.045741\n"
     ]
    },
    {
     "name": "stderr",
     "output_type": "stream",
     "text": [
      "1561it [16:18,  1.60it/s]\n"
     ]
    },
    {
     "name": "stdout",
     "output_type": "stream",
     "text": [
      "\n",
      "validating…\n",
      "Train Epoch: 9 \t Validation loss: 1.182050\n",
      "Train Epoch: 9 \t Validation WER: 1.000000\n",
      "Train Epoch: 9 \t Validation CER: 0.433763\n",
      "Saving checkpoint...\n"
     ]
    },
    {
     "name": "stderr",
     "output_type": "stream",
     "text": [
      "1it [00:01,  1.60s/it]"
     ]
    },
    {
     "name": "stdout",
     "output_type": "stream",
     "text": [
      "Train Epoch: 10 [0/49950 (0%)]\tLoss: 0.004241\n"
     ]
    },
    {
     "name": "stderr",
     "output_type": "stream",
     "text": [
      "251it [02:37,  1.05it/s]"
     ]
    },
    {
     "name": "stdout",
     "output_type": "stream",
     "text": [
      "Train Epoch: 10 [8000/49950 (16%)]\tLoss: 1.041600\n"
     ]
    },
    {
     "name": "stderr",
     "output_type": "stream",
     "text": [
      "501it [05:30,  1.22it/s]"
     ]
    },
    {
     "name": "stdout",
     "output_type": "stream",
     "text": [
      "Train Epoch: 10 [16000/49950 (32%)]\tLoss: 1.021434\n"
     ]
    },
    {
     "name": "stderr",
     "output_type": "stream",
     "text": [
      "751it [08:15,  2.20it/s]"
     ]
    },
    {
     "name": "stdout",
     "output_type": "stream",
     "text": [
      "Train Epoch: 10 [24000/49950 (48%)]\tLoss: 1.026418\n"
     ]
    },
    {
     "name": "stderr",
     "output_type": "stream",
     "text": [
      "1001it [10:45,  2.92it/s]"
     ]
    },
    {
     "name": "stdout",
     "output_type": "stream",
     "text": [
      "Train Epoch: 10 [32000/49950 (64%)]\tLoss: 1.025895\n"
     ]
    },
    {
     "name": "stderr",
     "output_type": "stream",
     "text": [
      "1251it [13:15,  1.26it/s]"
     ]
    },
    {
     "name": "stdout",
     "output_type": "stream",
     "text": [
      "Train Epoch: 10 [40000/49950 (80%)]\tLoss: 1.020143\n"
     ]
    },
    {
     "name": "stderr",
     "output_type": "stream",
     "text": [
      "1501it [16:03,  1.69it/s]"
     ]
    },
    {
     "name": "stdout",
     "output_type": "stream",
     "text": [
      "Train Epoch: 10 [48000/49950 (96%)]\tLoss: 1.030403\n"
     ]
    },
    {
     "name": "stderr",
     "output_type": "stream",
     "text": [
      "1561it [16:41,  1.56it/s]\n"
     ]
    },
    {
     "name": "stdout",
     "output_type": "stream",
     "text": [
      "\n",
      "validating…\n",
      "Train Epoch: 10 \t Validation loss: 1.189882\n",
      "Train Epoch: 10 \t Validation WER: 1.000000\n",
      "Train Epoch: 10 \t Validation CER: 0.433984\n"
     ]
    }
   ],
   "source": [
    "trained_model = train_and_validation(learning_rate=5e-4, batch_size=32, epochs=10)"
   ]
  },
  {
   "cell_type": "markdown",
   "metadata": {},
   "source": [
    "## Train model from checkpoint"
   ]
  },
  {
   "cell_type": "code",
   "execution_count": null,
   "metadata": {},
   "outputs": [],
   "source": [
    "# trained_model = train_from_checkpoint(learning_rate=3e-5, batch_size=16, epochs=5)"
   ]
  },
  {
   "cell_type": "markdown",
   "metadata": {},
   "source": [
    "## Evaluation"
   ]
  },
  {
   "cell_type": "code",
   "execution_count": null,
   "metadata": {},
   "outputs": [],
   "source": [
    "def evaluate_model(model, batch_size=4):\n",
    "    \n",
    "    test_label_path = './working/norm_train.csv'\n",
    "    test_audio_directory = './input/bengaliai-speech/test_mp3s'\n",
    "    eval_dataset = BengaliAIDataset(test_label_path, test_audio_directory, data_type='eval')\n",
    "    \n",
    "    use_cuda = torch.cuda.is_available()\n",
    "    device = torch.device(\"cuda\" if use_cuda else \"cpu\")\n",
    "    \n",
    "    hparams = {\n",
    "    \"n_cnn_layers\": 3,\n",
    "    \"n_rnn_layers\": 5,\n",
    "    \"rnn_dim\": 512,\n",
    "    \"n_class\": len(unique_chars),\n",
    "    \"n_feats\": 128,\n",
    "    \"stride\": 2,\n",
    "    \"dropout\": 0.1,\n",
    "    \"learning_rate\": 1e-4,\n",
    "    \"batch_size\": batch_size,\n",
    "    \"epochs\": 1\n",
    "    }\n",
    "    \n",
    "    kwargs = {'num_workers': 0, 'pin_memory': True} if use_cuda else {}\n",
    "    eval_loader = DataLoader(dataset=eval_dataset,\n",
    "                              batch_size=hparams['batch_size'],\n",
    "                              shuffle=False,\n",
    "                              collate_fn=lambda x: data_processing(x, 'eval'),\n",
    "                              **kwargs)\n",
    "    \n",
    "    iter_meter = IterMeter()\n",
    "    eval_results = evaluate(model, device, eval_loader, iter_meter)\n",
    "    \n",
    "    return eval_results"
   ]
  },
  {
   "cell_type": "code",
   "execution_count": null,
   "metadata": {},
   "outputs": [],
   "source": [
    "decoded_results = evaluate_model(trained_model, batch_size=1)"
   ]
  },
  {
   "cell_type": "markdown",
   "metadata": {},
   "source": [
    "## Create submission file"
   ]
  },
  {
   "cell_type": "code",
   "execution_count": null,
   "metadata": {},
   "outputs": [],
   "source": [
    "bnorm = Normalizer()\n",
    "def create_submission_file(decoded_results):\n",
    "    evaluated_sentences = []\n",
    "    file_ids = []\n",
    "    filenames = os.listdir('./input/bengaliai-speech/test_mp3s')\n",
    "    \n",
    "    i=0\n",
    "    for utterance in decoded_results:\n",
    "        # Normalize sentences with bnunicodenormalizer\n",
    "        norm_tokens = [bnorm(char)['normalized'] for char in utterance]\n",
    "        norm_sentence = \"\".join([word for word in norm_tokens if word is not None])\n",
    "        \n",
    "        # Add dari if not present\n",
    "        if norm_sentence[-1] != \"।\":\n",
    "            norm_sentence = norm_sentence + '।'\n",
    "        \n",
    "        # Combine decoded results into sentence\n",
    "        evaluated_sentences.append(''.join(norm_sentence))\n",
    "        \n",
    "        # Organize file IDs\n",
    "        file_ids.append(filenames[i].split('.')[0])\n",
    "    \n",
    "    # Create submission dataframe\n",
    "    sub_df = pd.DataFrame(list(zip(file_ids, evaluated_sentences)),\n",
    "                         columns=['id', 'sentence'])\n",
    "    \n",
    "    # Write submission file\n",
    "#     sub_df.to_csv('/kaggle/working/submission.csv')\n",
    "    \n",
    "    return sub_df"
   ]
  },
  {
   "cell_type": "code",
   "execution_count": null,
   "metadata": {},
   "outputs": [],
   "source": [
    "df = create_submission_file(decoded_results)\n",
    "df.head()"
   ]
  },
  {
   "cell_type": "code",
   "execution_count": 49,
   "metadata": {},
   "outputs": [
    {
     "name": "stderr",
     "output_type": "stream",
     "text": [
      "C:\\Users\\Dawson\\anaconda3\\envs\\pytorch\\lib\\site-packages\\torch\\optim\\lr_scheduler.py:139: UserWarning: Detected call of `lr_scheduler.step()` before `optimizer.step()`. In PyTorch 1.1.0 and later, you should call them in the opposite order: `optimizer.step()` before `lr_scheduler.step()`.  Failure to do this will result in PyTorch skipping the first value of the learning rate schedule. See more details at https://pytorch.org/docs/stable/optim.html#how-to-adjust-learning-rate\n",
      "  warnings.warn(\"Detected call of `lr_scheduler.step()` before `optimizer.step()`. \"\n"
     ]
    },
    {
     "data": {
      "image/png": "[encoded data removed]",
      "text/plain": [
       "<Figure size 1500x700 with 1 Axes>"
      ]
     },
     "metadata": {},
     "output_type": "display_data"
    }
   ],
   "source": [
    "hparams = {\n",
    "    \"n_cnn_layers\": 8,\n",
    "    \"n_rnn_layers\": 4,\n",
    "    \"rnn_dim\": 512,\n",
    "    \"n_class\": len(unique_chars),\n",
    "    \"n_feats\": 128,\n",
    "    \"stride\": 2,\n",
    "    \"dropout\": 0.1,\n",
    "    \"learning_rate\": 5e-4,\n",
    "    \"batch_size\": 16,\n",
    "    \"epochs\": 2\n",
    "}\n",
    "\n",
    "train_audio_directory = './input/bengaliai-speech/train_mp3s/'\n",
    "train_label_path = './working/norm_train.csv'\n",
    "train_dataset, valid_dataset = torch.utils.data.random_split(BengaliAIDataset(train_label_path, train_audio_directory), \n",
    "                                                             [round(len(BengaliAIDataset(train_label_path, train_audio_directory))*0.999),\n",
    "                                                              round(len(BengaliAIDataset(train_label_path, train_audio_directory))*0.001)])\n",
    "\n",
    "train_loader = DataLoader(dataset=train_dataset,\n",
    "                          batch_size=16,\n",
    "                          shuffle=True,  # Change to True for full training runs\n",
    "                          collate_fn=lambda x: data_processing(x, 'training'))\n",
    "\n",
    "model = SpeechRecognitionModel(\n",
    "        hparams['n_cnn_layers'], hparams['n_rnn_layers'], hparams['rnn_dim'],\n",
    "        hparams['n_class'], hparams['n_feats'], hparams['stride'], hparams['dropout']\n",
    "        )\n",
    "\n",
    "optimizer = optim.AdamW(model.parameters(), hparams['learning_rate'])\n",
    "scheduler = optim.lr_scheduler.OneCycleLR(optimizer, max_lr=hparams['learning_rate'], \n",
    "                                          steps_per_epoch=int(len(train_loader)),\n",
    "                                          epochs=hparams['epochs'],\n",
    "                                          anneal_strategy='cos',\n",
    "                                          div_factor=10,\n",
    "                                          final_div_factor=100,\n",
    "                                          pct_start=0.1)\n",
    "\n",
    "lrs = []\n",
    "steps = []\n",
    "k=0\n",
    "for j in range(hparams['epochs']):\n",
    "    for i in range(len(train_loader)):\n",
    "        lrs.append(scheduler.get_last_lr())\n",
    "        scheduler.step()\n",
    "        steps.append(k)\n",
    "        k+=1\n",
    "lrs = np.stack(lrs, axis=0)\n",
    "steps = np.stack(steps)\n",
    "\n",
    "plt.figure(figsize=(15,7))\n",
    "plt.plot(steps, lrs)\n",
    "# plt.yscale('log')\n",
    "plt.show()\n",
    "plt.close()"
   ]
  },
  {
   "cell_type": "code",
   "execution_count": 32,
   "metadata": {},
   "outputs": [
    {
     "data": {
      "text/plain": [
       "array([[5.00000000e-05],\n",
       "       [5.01201474e-05],\n",
       "       [5.02402948e-05],\n",
       "       ...,\n",
       "       [1.11416674e-06],\n",
       "       [1.05708337e-06],\n",
       "       [1.00000000e-06]])"
      ]
     },
     "execution_count": 32,
     "metadata": {},
     "output_type": "execute_result"
    }
   ],
   "source": []
  }
 ],
 "metadata": {
  "kernelspec": {
   "display_name": "Python 3 (ipykernel)",
   "language": "python",
   "name": "python3"
  },
  "language_info": {
   "codemirror_mode": {
    "name": "ipython",
    "version": 3
   },
   "file_extension": ".py",
   "mimetype": "text/x-python",
   "name": "python",
   "nbconvert_exporter": "python",
   "pygments_lexer": "ipython3",
   "version": "3.9.11"
  }
 },
 "nbformat": 4,
 "nbformat_minor": 4
}
